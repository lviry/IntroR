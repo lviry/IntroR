{
 "cells": [
  {
   "cell_type": "markdown",
   "metadata": {},
   "source": [
    "# Introduction\n",
    "## Qu'est ce que R? \n",
    "R est un système d'analyse statistique et graphique créé par Ross Ihaka et Robert Gentleman.\n",
    "R est à la fois un logiciel et un langage interprété dont la conception dérive du langage S développé au sein des laboratoires AT&T Bell dans les années 80 et disponible actuellement sous la forme du logiciel S-PLUS commercialisé par la compagnie Insightful. Il y a des différences dans la conception de R et celle de S, pour en savoir plus sur ce point, se reporter au [R-FAQ3](https://cran.r-project.org/doc/FAQ/R-FAQ.html).\n",
    "\n",
    "Le langage R possède aujourd'hui une communauté mature d'utilisateurs et de développeurs qui ont créé et partagé des milliers de package via le _Comprehensive R Archive Network_ (CRAN, https://cran.r-project.org).\n",
    "\n",
    "R comporte de nombreuses fonctions pour les analyses statistiques, les\n",
    "graphiques, le traitement et le stockage des données. Les graphiques sont visualisés à l'écran ou sur papier et peuvent être exportés sous divers formats (jpg, png, bmp, ps, pdf, emf, pictex,\n",
    "xfig); les formats disponibles peuvent dépendre du système d'exploitation.\n",
    "Les résultats des analyses statistiques sont affichés à l'écran ou peuvent être sauvegardés ou exportés dans un fichier pour être utilisés dans des analyses ultérieures.\n",
    "\n",
    "R est un langage de programmation simple et efficace qui permet à l'utilisateur d'écrire ses propres algorithmes en utilisant le traitement conditionnel, les boucles, la récursivité, les fonctions intrinsèques et utilisateurs et des fonctions d'entrée /sorties. \n",
    "\n",
    "R comprend une suite d'opérateurs pour les calculs sur des tableaux, en particulier des matrices.\n",
    "\n",
    "R offre les possibilités d'améliorer ses performances en convertisant le haut niveau d'interprétation du code R en un langage compilé écrit en C, C++ ou Fortran (**RCPP**,...)\n",
    "R permet de s'adapter à l'architecture des processeurs multi-coeurs et aux clusters de plusieurs noeuds en fournissant des outils aux développeurs qui lui permet d'utiliser des techniques de programmation parallèle (**parallel**,**multicore**,**snow**,...)\n",
    "\n",
    "Un dernier point important, les statisticiens ont implémentés dans R sous forme de packages directement intégrées dans R, des centaines de procédures adaptées à une grande variété d'applications.\n",
    "\n",
    "\n",
    "## Pourquoi R?\n",
    "### Avantages\n",
    "\n",
    "R a des avantages majeurs\n",
    "* Il est gratuit et le restera puisqu'il est distribué librement sous les termes de la [GNU General Public Licence](http://www.gnu.org/)\n",
    "* Il est disponible sur Internet, via un grand réseau de serveurs.\n",
    "* Il fonctionne sur de nombreux systèmes d'exploitation Unix et dérivés incluant\n",
    "Darwin, Mac OS X, Linux, FreeBSD et Solaris; sur \n",
    "Microsoft Windows; Apple Macintosh OS .\n",
    "* Il est le produit d'une collaboration internationale entre\n",
    "statisticiens et informaticiens;\n",
    "* Il ne limite pas l'utilisateur à un ensemble de procédures ou d'options tout en utilisant les packages déjà intégrés dans R.\n",
    "\n",
    "6. It can work on objects of unlimited size and complexity with a consistent,\n",
    "logical expression language;\n",
    "7. It is supported by comprehensive technical documentation and usercontributed\n",
    "tutorials (§9). There are also several good textbooks on\n",
    "statistical methods that use R (or S) for illustration.\n",
    "8. Every computational step is recorded, and this history can be saved\n",
    "for later use or documentation.\n",
    "9. It stimulates critical thinking about problem-solving rather than a\n",
    "“push the button” mentality.\n",
    "10. It is fully programmable, with its own sophisticated computer language\n",
    "(§4). Repetitive procedures can easily be automated by user-written scripts (§3.5). It is easy to write your own functions (§B),\n",
    "and not too difficult to write whole packages if you invent some new\n",
    "analysis;\n",
    "11. All source code is published, so you can see the exact algorithms being\n",
    "used; also, expert statisticians can make sure the code is correct;\n",
    "12. It can exchange data in MS-Excel, text, fixed and delineated formats\n",
    "(e.g. CSV), so that existing datasets are easily imported (§6), and results\n",
    "computed in R are easily exported (§7).\n",
    "13. Most programs written for the commercial S-PLUS program will run\n",
    "unchanged, or with minor changes, in R (§2.3.1\n",
    "\n",
    "### Inconvénients\n",
    "R présentent quelques inconvénients:\n",
    "\n",
    "* L'utilisateur doit définir lui-même la séquence des analyses et les exécuter pas à pas, cependant, il est facile de créer des scripts avec toutes les étapes dans les éditeurs des interfaces utilisateurs de R (dans ce cours RStudio).\n",
    "* L'utilisateur doit apprendre à penser autrement la gestion de ses données, de penser les objets R comme des classes ce qui lui permettra de bénéficier des avantages des langages objet. Les méthodes opérant sur un objet en fonction de sa classe.\n",
    "* L'utilisateur doit apprendre un langage, à la fois pour les commandes mais aussi pour la spécification des analyses statistiques.\n",
    "\n",
    "### Alternatives\n",
    "There are many ways to do computational statistics; this section discusses\n",
    "them in relation to R. None of these programs are open-source, meaning\n",
    "that you must trust the company to do the computations correctly.\n",
    "#### S-PLUS\n",
    "#### Statistical packages :  SPSS, BMDP,SAS, Statistica, Minitab, Systat,Genstat,...\n",
    "#### Applied mathematics programs\n",
    "\n",
    "\n",
    "## Installer R\n",
    "R est distribué librement sous les termes de la [GNU General Public Licence](http://www.gnu.org/)\n",
    "; son développement et sa distribution sont assurés par plusieurs statisticiens\n",
    "rassemblés dans le **R Development Core Team**.\n",
    "\n",
    "R est disponible sous plusieurs formes : \n",
    "* des exécutables précompilés pour Windows, Linux et OSX (Macintosh).\n",
    "* de sources(écrit principalement en C et certaines routines en Fortran) qu'il faudra compiler avant de les utiliser.\n",
    "\n",
    "Les fichiers pour installer R, à partir des sources ou des exécutables, sont distribués à partir de sites internet du [CRAN](https://cran.r-project.org) où se trouvent aussi les instructions à suivre pour l'installation sur chaque système. \n",
    "\n",
    "## Utiliser R (Rossiter-RIntro-ITC.pdf)\n",
    "Il y a plusieurs méthodes pour travailler avec R\n",
    "\n",
    "* En mode commande (CLI).\n",
    "* à partir de l'interface de développement(IDE) RSudio.\n",
    "* en utilisant le module ESS(Emacs Speaks Statistics) de l'éditeur **emacs**.\n",
    "Il existe d'autres interfaces de développement, suivant les systèmes d'exploitation. On utilisera dans ce cours **RStudio** qui est l'IDE la plus couramment utilisée.\n",
    "## Interface Utilisateur\n",
    "\n",
    "### Mode Console\n",
    "#### Running the R console GUI\n",
    "#### Setting up a workspace in Windows\n",
    "#### Saving your analysis steps\n",
    "#### Saving your graphs\n",
    "### Travailler en mode commande\n",
    "#### Lancer la console R\n",
    "\n",
    "bash% R"
   ]
  },
  {
   "cell_type": "markdown",
   "metadata": {},
   "source": [
    "# R comme calculatrice\n",
    "2+3\n",
    "log(7)\n",
    "runif(5)\n",
    "ls()\n",
    "# R comme langage interprete\n",
    "a <- runif(5)\n",
    "a\n",
    "ls()\n",
    "n <- 7\n",
    "log(n)\n",
    "ls()\n",
    "rm(a)\n",
    "ls()"
   ]
  },
  {
   "cell_type": "markdown",
   "metadata": {},
   "source": [
    "### Documentation sous la console\n",
    "help(round)\n",
    "<img src=\"fenetreRStudio.jpg\",width=60,height=60>\n",
    "\n",
    "\n",
    " ![truc](fenetreRStudio.jpg)"
   ]
  },
  {
   "cell_type": "markdown",
   "metadata": {},
   "source": [
    "# Les objets R\n",
    "## Qu'est-ce qu'un objet dans R?\n",
    "## Les vecteurs\n",
    "## Les matrices\n",
    "## Les listes\n",
    "## Les facteurs\n",
    "## Les data-frame"
   ]
  },
  {
   "cell_type": "markdown",
   "metadata": {
    "collapsed": true
   },
   "source": [
    "# Manipuler des données dans R\n",
    "- Importer des données\n",
    "- Sauvegarder des données ou des résultats\n",
    "- Générer des données\n",
    "- Manipuler des objets\n",
    "- Quelques traitements statistiques"
   ]
  },
  {
   "cell_type": "markdown",
   "metadata": {},
   "source": [
    "# Programmer avec R\n",
    "## Les expressions conditionnelles (if et else)\n",
    "## Les boucles (for ou while)\n",
    "## Les fonctions\n",
    "## Les boucles implicites (apply,lapply,...)\n"
   ]
  },
  {
   "cell_type": "markdown",
   "metadata": {},
   "source": [
    "# Représenter des données\n",
    "## Les graphiques de base\n",
    "## Ajout à un graphique\n",
    "## Présentation d'une distribution\n",
    "## Personalisation des graphisuqes\n",
    "## Exportation de graphiques\n",
    "## Graphiques à plusieurs dimensions\n",
    "## Les fonction graphiques avec lattice\n",
    "## Introduction au package ggplot2"
   ]
  },
  {
   "cell_type": "markdown",
   "metadata": {},
   "source": []
  }
 ],
 "metadata": {
  "kernelspec": {
   "display_name": "R",
   "language": "R",
   "name": "ir"
  },
  "language_info": {
   "codemirror_mode": "r",
   "file_extension": ".r",
   "mimetype": "text/x-r-source",
   "name": "R",
   "pygments_lexer": "r",
   "version": "3.4.2"
  }
 },
 "nbformat": 4,
 "nbformat_minor": 2
}
