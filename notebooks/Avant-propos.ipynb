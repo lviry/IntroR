{
 "cells": [
  {
   "cell_type": "markdown",
   "metadata": {},
   "source": [
    "# Avant-propos \n",
    "\n",
    "Ce cours s'adresse aux praticiens de la statistique, plus généralement aux personnes ayant à traiter des jeux de données dans des domaines variés (biologie, physique, sciences humaines,...) et ayant choisit R comme outil de traitement et d'analyse. Il a également pour objectif d'être un pré-requis à un cours avancé de développement avec R.\n",
    "\n",
    "Le cours est centré principalement sur le logiciel R et son fonctionnement et même si on utilisera quelques procédures statistiques classiques au cours des manipulations, ça n'est pas un cours de statistiques.\n",
    "\n",
    "Une première introduction aborde les raisons du choix de ce logiciel pour le traitement des données, son installation, la documentation, les packages, les interfaces utilisateurs disponibles (IDE) et une description de RStudio, l'IDE choisit pour ce cours. (IntroR.ipynb,IntroR.Rnw)\n",
    "\n",
    "Dans une deuxième partie on présente les concepts de bases : les objets, les fonctions,... (Objet.ipynb, Objet.Rnw)\n",
    "\n",
    "Dans la troisième partie, on aborde les manipulations de données qui sont des opérations courantes dans la pratique statistique: importation de données, sauvegarde de données et de résultats, traitements des données manquantes, concaténation des niveaux de facteurs,... (ManipDon.ipynb, ManipDon.Rnw). On effectuera quelques traitements statistiques sur les données.\n",
    "\n",
    "Le traitement statistique s'accompagne d'une visualisation claire et synthétique des résultats, nous décrivons dans la quatrième partie les nombreuses possibilités offertes par R dans ce domaine (GraphiqueR.ipynb, GraphiqueR.Rnw).\n",
    "\n",
    "Enfin dans la cinquième partie, nous présentons quelques éléments de programmation, comment construire un script R implémentant un algorithme statistique ou une chaine de  traitements sur des données. On aborde dans cette partie les capacités de déboguage et de profiling de R et rapidement comment utiliser les ressources multi-coeur actuellement disponibles sur les portables ou serveurs à notre disposition (ProgrammerR.ipynb, ProgrammerR.Rnw).\n",
    "\n",
    "Pour chacune de ces parties, vous aurez un fichier notebook que vous pourrez utiliser sur le serveur de notebook de GRICAD et un fichier R Markdown notebook que vous pourrez utiliser sur votre portable sous RStudio. Pour en savoir plus sur les notebook\n",
    "(jupyter, Rmarkdown, https://www.datacamp.com/community/blog/jupyter-notebook-r#gs.6iMBYHw)\n",
    "\n",
    "L'nsemble des consignes et des fichiers utiles à ce cours est stocké dans un projet gitlab de GRICAD, vous avez accès à  ce serveur avec votre <identifiant,mot de passe> AGALAN.\n",
    "\n",
    "## Accès et utilisation du gitlab de GRICAD\n",
    "\n",
    "https://gricad-gitlab.univ-grenoble-alpes.fr/users/sign_in\n",
    "\n",
    "https://docs.gricad-pages.univ-grenoble-alpes.fr/help/"
   ]
  },
  {
   "cell_type": "code",
   "execution_count": null,
   "metadata": {},
   "outputs": [],
   "source": []
  }
 ],
 "metadata": {
  "kernelspec": {
   "display_name": "R",
   "language": "R",
   "name": "ir"
  },
  "language_info": {
   "codemirror_mode": "r",
   "file_extension": ".r",
   "mimetype": "text/x-r-source",
   "name": "R",
   "pygments_lexer": "r",
   "version": "3.4.2"
  }
 },
 "nbformat": 4,
 "nbformat_minor": 2
}
